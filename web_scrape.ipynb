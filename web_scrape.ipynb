{
 "cells": [
  {
   "cell_type": "markdown",
   "metadata": {},
   "source": [
    "## this code helps to scrape the hacker news webiste and then find the news/links that has score => 100 and sorted the links in order by score"
   ]
  },
  {
   "cell_type": "code",
   "execution_count": 2,
   "metadata": {},
   "outputs": [],
   "source": [
    "import requests\n",
    "from bs4 import BeautifulSoup"
   ]
  },
  {
   "cell_type": "code",
   "execution_count": 57,
   "metadata": {},
   "outputs": [],
   "source": [
    "url = \"https://news.ycombinator.com/news\"\n",
    "\n",
    "\n",
    "\n",
    "res = requests.get(url)\n",
    "soup = BeautifulSoup(res.text, \"html.parser\" )\n",
    "links = soup.select('.storylink')\n",
    "subtext = soup.select('.subtext')\n",
    "\n",
    "\n"
   ]
  },
  {
   "cell_type": "code",
   "execution_count": 58,
   "metadata": {},
   "outputs": [
    {
     "name": "stdout",
     "output_type": "stream",
     "text": [
      "Historical programming-language groups disappearing from Google\n",
      "https://lwn.net/Articles/827233/\n"
     ]
    }
   ],
   "source": [
    "print(links[0].getText())\n",
    "print(links[0].get('href', None))"
   ]
  },
  {
   "cell_type": "code",
   "execution_count": 59,
   "metadata": {},
   "outputs": [
    {
     "name": "stdout",
     "output_type": "stream",
     "text": [
      "242 points\n"
     ]
    }
   ],
   "source": [
    "print(subtext[0].select('.score')[0].getText())"
   ]
  },
  {
   "cell_type": "code",
   "execution_count": 60,
   "metadata": {},
   "outputs": [
    {
     "name": "stdout",
     "output_type": "stream",
     "text": [
      "[{'title': 'Google’s top search result is Google', 'link': None, 'score': 293}, {'title': 'Rite Aid deployed facial recognition systems in hundreds of U.S. stores', 'link': None, 'score': 273}, {'title': 'GitHub Public Roadmap', 'link': None, 'score': 246}, {'title': 'Historical programming-language groups disappearing from Google', 'link': None, 'score': 242}, {'title': 'Firefox 79', 'link': None, 'score': 240}, {'title': 'Launch HN: QuestDB (YC S20) – Fast open source time series database', 'link': None, 'score': 222}, {'title': 'We Don’t Need to Work So Much (2015)', 'link': None, 'score': 203}, {'title': 'WasmBoxC: Simple, Fast, and VM-Less Sandboxing', 'link': None, 'score': 198}, {'title': 'OCaml: Add support to iOS/Mac ARM64', 'link': None, 'score': 187}, {'title': 'Banned math book', 'link': None, 'score': 172}, {'title': 'Data Runner Watch Prototype – Modded Casio F91W', 'link': None, 'score': 160}, {'title': 'The Regular Expression Visualizer, Simulator and Cross-Compiler Tool', 'link': None, 'score': 133}, {'title': 'Interview with a Pornhub web developer (2019)', 'link': None, 'score': 130}, {'title': 'The worst tool for the job', 'link': None, 'score': 126}, {'title': 'MI6 tried to intervene independent court by stopping judge seeing legal papers', 'link': None, 'score': 115}]\n"
     ]
    }
   ],
   "source": [
    "def create_custom_hn(links, subtext):\n",
    "    link_lists = []\n",
    "    for idx, item in enumerate(links):\n",
    "        vote = subtext[idx].select('.score')\n",
    "        if len(vote):\n",
    "            score= int(vote[0].getText().replace(' points', ''))\n",
    "            if score > 99:\n",
    "              link_lists.append({'title': item.getText(), 'link': item.get('href, None'), 'score': score})\n",
    "            \n",
    "    return(sorted(link_lists, key = lambda k: k['score'], reverse = True))\n",
    "\n",
    "print(create_custom_hn(links, subtext))         "
   ]
  },
  {
   "cell_type": "code",
   "execution_count": 61,
   "metadata": {},
   "outputs": [],
   "source": [
    "urls = [\"https://news.ycombinator.com/news\", \"https://news.ycombinator.com/news?p=2\"]\n",
    "\n",
    "\n",
    "links =[]\n",
    "subtexts = []\n",
    "for url in urls:\n",
    "    res = requests.get(url)\n",
    "    soup = BeautifulSoup(res.text, \"html.parser\" )\n",
    "    links.append(soup.select('.storylink'))\n",
    "    subtexts.append(soup.select('.subtext'))\n"
   ]
  },
  {
   "cell_type": "code",
   "execution_count": 66,
   "metadata": {},
   "outputs": [],
   "source": [
    "final =[]\n",
    "for idx, item in enumerate(links):\n",
    "    final += create_custom_hn(item, subtexts[idx])\n",
    "    \n",
    "final = sorted(final, key = lambda k: k['score'], reverse = True)"
   ]
  },
  {
   "cell_type": "code",
   "execution_count": 67,
   "metadata": {},
   "outputs": [
    {
     "name": "stdout",
     "output_type": "stream",
     "text": [
      "[{'title': 'Intel ousts its chief engineer, shakes up technical group after delays', 'link': None, 'score': 539}, {'title': 'How GPT3 Works – Visualizations and Animations', 'link': None, 'score': 369}, {'title': 'Double Entry Accounting for Developers', 'link': None, 'score': 367}, {'title': 'Google’s top search result is Google', 'link': None, 'score': 294}, {'title': 'Rite Aid deployed facial recognition systems in hundreds of U.S. stores', 'link': None, 'score': 274}, {'title': 'The Toxoplasma of Rage (2014)', 'link': None, 'score': 253}, {'title': 'GitHub Public Roadmap', 'link': None, 'score': 247}, {'title': 'Historical programming-language groups disappearing from Google', 'link': None, 'score': 244}, {'title': 'We thought it was just a respiratory virus', 'link': None, 'score': 244}, {'title': 'Firefox 79', 'link': None, 'score': 241}, {'title': 'The Galaksija computer was a craze in 1980s Yugoslavia', 'link': None, 'score': 236}, {'title': 'Launch HN: QuestDB (YC S20) – Fast open source time series database', 'link': None, 'score': 223}, {'title': 'Facebook sues EU antitrust regulator for excessive data requests', 'link': None, 'score': 216}, {'title': 'We Don’t Need to Work So Much (2015)', 'link': None, 'score': 203}, {'title': 'WasmBoxC: Simple, Fast, and VM-Less Sandboxing', 'link': None, 'score': 198}, {'title': 'OCaml: Add support to iOS/Mac ARM64', 'link': None, 'score': 187}, {'title': 'Banned math book', 'link': None, 'score': 172}, {'title': 'Data Runner Watch Prototype – Modded Casio F91W', 'link': None, 'score': 160}, {'title': 'Remington Arms Declares Bankruptcy', 'link': None, 'score': 147}, {'title': 'The Regular Expression Visualizer, Simulator and Cross-Compiler Tool', 'link': None, 'score': 133}, {'title': 'Interview with a Pornhub web developer (2019)', 'link': None, 'score': 130}, {'title': 'The worst tool for the job', 'link': None, 'score': 126}, {'title': 'Malware Reverse Engineering Handbook', 'link': None, 'score': 125}, {'title': 'MI6 tried to intervene independent court by stopping judge seeing legal papers', 'link': None, 'score': 115}, {'title': 'Intel Ponte Vecchio GPU Will Be Made on TSMC 6nm Process, CPUs Could Be TSMC 3nm', 'link': None, 'score': 109}, {'title': 'Stack Overflow gets series E funding for $85M', 'link': None, 'score': 103}]\n"
     ]
    }
   ],
   "source": [
    "print(final)"
   ]
  },
  {
   "cell_type": "code",
   "execution_count": null,
   "metadata": {},
   "outputs": [],
   "source": []
  }
 ],
 "metadata": {
  "kernelspec": {
   "display_name": "Python 3",
   "language": "python",
   "name": "python3"
  },
  "language_info": {
   "codemirror_mode": {
    "name": "ipython",
    "version": 3
   },
   "file_extension": ".py",
   "mimetype": "text/x-python",
   "name": "python",
   "nbconvert_exporter": "python",
   "pygments_lexer": "ipython3",
   "version": "3.8.3"
  }
 },
 "nbformat": 4,
 "nbformat_minor": 4
}
